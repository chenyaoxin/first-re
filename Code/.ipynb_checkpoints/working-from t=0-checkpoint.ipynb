{
 "cells": [
  {
   "cell_type": "code",
   "execution_count": 106,
   "metadata": {},
   "outputs": [],
   "source": [
    "import math\n",
    "import matplotlib.pyplot as plt\n",
    "import numpy as np\n",
    "\n",
    "y_z = 0.07\n",
    "f_b = 0.2\n",
    "R = 0.46\n",
    "Omega_L0 = 0.6911\n",
    "Omega_r0 = 0\n",
    "Omega_m0 = 0.3089\n",
    "h_0 = 0.6774\n",
    "#Note the difference between h_0 here and h below "
   ]
  },
  {
   "cell_type": "code",
   "execution_count": 107,
   "metadata": {},
   "outputs": [],
   "source": [
    "a_0 = 1.0/1.0               #1.0/(1+z), where z = 0\n",
    "M_vir_0 = 60758265628.2     #the halo mass at z = 0\n",
    "M_gas_0 = 17610972.0767     #the gas mass at z = 0\n",
    "M_tot_0 = 1003534841.64     #the total mass at z = 0\n",
    "Z_0 = 0.0238180163786       #the metallicity at z = 0\n",
    "S_0 = 1.0                   #the SFE at z = 0\n",
    "S_index = -1.5              #the parameter in S(z)\n",
    "B_0 = 1.0                   #the mass loading factor at z = 0\n",
    "B_index = 1                 #the parameter in B(z)"
   ]
  },
  {
   "cell_type": "markdown",
   "metadata": {},
   "source": [
    "The code in the following block does not need to be run, the final data has been saved."
   ]
  },
  {
   "cell_type": "code",
   "execution_count": null,
   "metadata": {},
   "outputs": [],
   "source": [
    "#define lookback time[Gyr] using the second method\n",
    "n_integral = 3000              \n",
    "def f(z):\n",
    "    s = 1/((1+z)*math.sqrt(((1+z)**2)*(1+Omega_m0*z)-z*(2+z)*Omega_L0))\n",
    "    return s\n",
    "def lookbacktime(z):\n",
    "    h = (z-0)/(2.0000000*n_integral)\n",
    "    F0 = f(0)+f(z)\n",
    "    F1 = 0\n",
    "    F2 = 0\n",
    "    for j in range(1,2*n_integral):\n",
    "        x = j*h\n",
    "        if j%2 == 0:\n",
    "            F2 = F2+f(x)\n",
    "        else:\n",
    "            F1 = F1+f(x)\n",
    "    return ((h/3)*(F0+(2*F2)+(4*F1)))*9.78*(10**9)/h_0/(10**9)#[Gyr]\n",
    "\n",
    "#get an array of Z\n",
    "Redshift_raw = dict(np.load('/huawei/osv1/chenyaoxin/workspace/Data/SnapRedshift.npz'))\n",
    "#data from TNG300\n",
    "z_values_raw = np.append(np.delete(np.append(Redshift_raw['Redshift'][13:99],[0])[::-1],[86]),[6.0])\n",
    "t_values_raw = np.array([lookbacktime(6)-lookbacktime(z) for z in z_values_raw])\n",
    "delta_t=10**(-3)\n",
    "\n",
    "flag = 0\n",
    "z_values = np.array([0])\n",
    "while flag <= (z_values_raw.shape[0]-2):\n",
    "    dim = z_values.shape[0]\n",
    "    z_values = np.delete(z_values, [dim-1])\n",
    "    n = int((abs(t_values_raw[flag]-t_values_raw[flag+1]))/delta_t)\n",
    "    z_values = np.append(z_values, np.linspace(z_values_raw[flag],z_values_raw[flag+1],n))\n",
    "    flag += 1\n",
    "\n",
    "t_values = np.array([lookbacktime(6)-lookbacktime(z) for z in z_values])\n",
    "np.savez('/huawei/osv1/chenyaoxin/workspace/Data/redshift-evolution_time.npz', redshift = z_values, evolution_time = t_values)"
   ]
  },
  {
   "cell_type": "markdown",
   "metadata": {},
   "source": [
    "#Draw the pdf of delta_t"
   ]
  },
  {
   "cell_type": "code",
   "execution_count": 90,
   "metadata": {},
   "outputs": [
    {
     "data": {
      "text/plain": [
       "(array([  34.,   81.,  287., 1019., 4788., 4975., 1008.,  354.,  146.,\n",
       "          52.]),\n",
       " array([0.00092774, 0.00094406, 0.00096037, 0.00097669, 0.000993  ,\n",
       "        0.00100931, 0.00102563, 0.00104194, 0.00105826, 0.00107457,\n",
       "        0.00109088]),\n",
       " <BarContainer object of 10 artists>)"
      ]
     },
     "execution_count": 90,
     "metadata": {},
     "output_type": "execute_result"
    },
    {
     "data": {
      "image/png": "[encoded data removed]",
      "text/plain": [
       "<Figure size 432x288 with 1 Axes>"
      ]
     },
     "metadata": {
      "needs_background": "light"
     },
     "output_type": "display_data"
    }
   ],
   "source": [
    "Arr = dict(np.load('/huawei/osv1/chenyaoxin/workspace/Data/redshift-evolution_time.npz'))\n",
    "t_values = Arr['evolution_time']\n",
    "flag = 0\n",
    "delta_t_true_values = np.array([])\n",
    "while flag <= (t_values.shape[0]-2):\n",
    "    delta_t_true_values = np.append(delta_t_true_values, abs(t_values[flag]-t_values[flag+1]))\n",
    "    flag += 1\n",
    "\n",
    "plt.hist(delta_t_true_values)"
   ]
  },
  {
   "cell_type": "markdown",
   "metadata": {},
   "source": [
    "#Get arrays of redshift and evolution time"
   ]
  },
  {
   "cell_type": "code",
   "execution_count": 108,
   "metadata": {},
   "outputs": [],
   "source": [
    "#get an array of z and t\n",
    "Arr = dict(np.load('/huawei/osv1/chenyaoxin/workspace/Data/redshift-evolution_time.npz'))\n",
    "#data from the code of upper block\n",
    "z_values = Arr['redshift']\n",
    "t_values = Arr['evolution_time']\n",
    "num = z_values.shape[0]"
   ]
  },
  {
   "cell_type": "markdown",
   "metadata": {},
   "source": [
    "#Define the functions and get arrays of SFE, mass loading factor and the halo mass"
   ]
  },
  {
   "cell_type": "code",
   "execution_count": 109,
   "metadata": {},
   "outputs": [],
   "source": [
    "#define S(z)\n",
    "def S(z):\n",
    "    return S_0*((1+z)**S_index)\n",
    "#define B(z)\n",
    "def B(z):\n",
    "    return B_0*((1+z)**B_index)\n",
    "#define M_vir(z)\n",
    "def M_vir(z):\n",
    "    return M_vir_0*math.exp(0-8.2*a_0/13.0+8.2/(13.0*(1+z)))\n",
    "#get an array of S\n",
    "S_values=[S(z) for z in z_values]\n",
    "#get an array of B\n",
    "B_values=[B(z) for z in z_values]\n",
    "#get an array of M_vir\n",
    "M_vir_values=[M_vir(z) for z in z_values]"
   ]
  },
  {
   "cell_type": "markdown",
   "metadata": {},
   "source": [
    "### calculate delta_M_vir"
   ]
  },
  {
   "cell_type": "code",
   "execution_count": 110,
   "metadata": {},
   "outputs": [],
   "source": [
    "delta_M_vir_values = np.array([])\n",
    "flag = 0\n",
    "while flag <= num-2:\n",
    "    delta_M_vir_values = np.append(delta_M_vir_values, M_vir_values[flag+1]-M_vir_values[flag])\n",
    "    flag += 1"
   ]
  },
  {
   "cell_type": "markdown",
   "metadata": {},
   "source": [
    "### calculate delta_M_infall "
   ]
  },
  {
   "cell_type": "code",
   "execution_count": 111,
   "metadata": {},
   "outputs": [],
   "source": [
    "delta_M_infall_values = np.array([])\n",
    "flag = 0\n",
    "while flag <= num-2:\n",
    "    result = 0.01*delta_M_vir_values[flag]\n",
    "    delta_M_infall_values = np.append(delta_M_infall_values, result)\n",
    "    flag +=1"
   ]
  },
  {
   "cell_type": "markdown",
   "metadata": {},
   "source": [
    "### calculate M_gas"
   ]
  },
  {
   "cell_type": "code",
   "execution_count": 101,
   "metadata": {},
   "outputs": [],
   "source": [
    "M_gas_values = np.array([M_gas_0])\n",
    "flag = 0\n",
    "while flag <= num-2:\n",
    "    result1 = 0-(1-R+B_values[flag])*S_values[flag]*M_gas_values[flag]*(t_values[flag+1]-t_values[flag])+delta_M_infall_values[flag]\n",
    "    result2 = M_gas_values[flag]+result1\n",
    "    M_gas_values = np.append(M_gas_values, result2)\n",
    "    flag +=1"
   ]
  },
  {
   "cell_type": "markdown",
   "metadata": {},
   "source": [
    "### calculate M_tot"
   ]
  },
  {
   "cell_type": "code",
   "execution_count": 102,
   "metadata": {},
   "outputs": [],
   "source": [
    "M_tot_values = np.array([M_tot_0])\n",
    "flag = 0\n",
    "while flag <= num-2:\n",
    "    result1 = delta_M_infall_values[flag]-B_values[flag]*S_values[flag]*M_gas_values[flag]*(t_values[flag+1]-t_values[flag])\n",
    "    result2 = M_tot_values[flag]+result1\n",
    "    M_tot_values = np.append(M_tot_values,result2)\n",
    "    flag += 1\n"
   ]
  },
  {
   "cell_type": "markdown",
   "metadata": {},
   "source": [
    "### calculate M_star"
   ]
  },
  {
   "cell_type": "code",
   "execution_count": 104,
   "metadata": {},
   "outputs": [],
   "source": [
    "M_star_values = np.array([])\n",
    "flag = 0\n",
    "while flag <= num-1:\n",
    "    M_star_values = np.append(M_star_values, M_tot_values[flag]-M_gas_values[flag])\n",
    "    flag += 1"
   ]
  },
  {
   "cell_type": "markdown",
   "metadata": {},
   "source": [
    "### calculate SFR"
   ]
  },
  {
   "cell_type": "code",
   "execution_count": 105,
   "metadata": {},
   "outputs": [],
   "source": [
    "SFR_values = np.array([])\n",
    "flag = 0\n",
    "while flag <= num-1:\n",
    "    SFR_values = np.append(SFR_values, S_values[flag]*M_gas_values[flag]/(10**9))\n",
    "    flag += 1"
   ]
  },
  {
   "cell_type": "markdown",
   "metadata": {},
   "source": [
    "### calculate metallicity Z"
   ]
  },
  {
   "cell_type": "code",
   "execution_count": 112,
   "metadata": {},
   "outputs": [],
   "source": [
    "Z_values = np.array([Z_0])\n",
    "flag = 0\n",
    "while flag <= num-2:\n",
    "    result1 = y_z*(1-R)*S_values[flag]*(t_values[flag+1]-t_values[flag])-(Z_values[flag]*delta_M_infall_values[flag]/M_gas_values[flag])\n",
    "    result2 = Z_values[flag]+result1\n",
    "    Z_values = np.append(Z_values, result2)\n",
    "    flag += 1\n",
    "    "
   ]
  },
  {
   "cell_type": "markdown",
   "metadata": {},
   "source": [
    "### figure"
   ]
  },
  {
   "cell_type": "code",
   "execution_count": 114,
   "metadata": {},
   "outputs": [
    {
     "data": {
      "image/png": "[encoded data removed]",
      "text/plain": [
       "<Figure size 432x288 with 1 Axes>"
      ]
     },
     "metadata": {
      "needs_background": "light"
     },
     "output_type": "display_data"
    },
    {
     "data": {
      "image/png": "[encoded data removed]",
      "text/plain": [
       "<Figure size 432x288 with 1 Axes>"
      ]
     },
     "metadata": {
      "needs_background": "light"
     },
     "output_type": "display_data"
    },
    {
     "data": {
      "image/png": "[encoded data removed]",
      "text/plain": [
       "<Figure size 432x288 with 1 Axes>"
      ]
     },
     "metadata": {
      "needs_background": "light"
     },
     "output_type": "display_data"
    }
   ],
   "source": [
    "judge_number = num-1\n",
    "#M\n",
    "plt.figure('The first figure')\n",
    "plt.plot(t_values[0:judge_number],M_gas_values[0:judge_number],color=\"black\",linestyle=\":\",label='${M_{gas}}$')\n",
    "plt.plot(t_values[0:judge_number],M_tot_values[0:judge_number],color=\"red\",linestyle=\"-\",label='${M_{tot}}$')\n",
    "plt.plot(t_values[0:judge_number],M_star_values[0:judge_number],color=\"blue\",linestyle=\"--\",label='${M_{star}}$')\n",
    "plt.xlabel(\"t[Gyr]\",fontsize=14)\n",
    "plt.ylabel(\"${M}$/${M_{\\odot}}$\",fontsize=14)\n",
    "plt.legend(loc=1)\n",
    "plt.savefig('/huawei/osv1/chenyaoxin/workspace/Figure/M.pdf')\n",
    "\n",
    "#Z\n",
    "plt.figure('The second figure')\n",
    "plt.plot(t_values[0:judge_number],Z_values[0:judge_number])\n",
    "plt.xlabel(\"t[Gyr]\",fontsize=14)\n",
    "plt.ylabel(\"Z\",fontsize=14)\n",
    "plt.savefig('/huawei/osv1/chenyaoxin/workspace/Figure/Z.pdf')\n",
    "\n",
    "#SFR\n",
    "plt.figure('The third figure')\n",
    "plt.plot(t_values[0:judge_number],SFR_values[0:judge_number])\n",
    "plt.xlabel(\"t[Gyr]\",fontsize=14)\n",
    "plt.ylabel(\"${SFR}$${[M_{\\odot}yr^{-1}]}$\",fontsize=14)\n",
    "plt.savefig('/huawei/osv1/chenyaoxin/workspace/Figure/SFR.pdf') "
   ]
  },
  {
   "cell_type": "code",
   "execution_count": null,
   "metadata": {},
   "outputs": [],
   "source": []
  }
 ],
 "metadata": {
  "kernelspec": {
   "display_name": "Python 3",
   "language": "python",
   "name": "python3"
  },
  "language_info": {
   "codemirror_mode": {
    "name": "ipython",
    "version": 3
   },
   "file_extension": ".py",
   "mimetype": "text/x-python",
   "name": "python",
   "nbconvert_exporter": "python",
   "pygments_lexer": "ipython3",
   "version": "3.8.5"
  }
 },
 "nbformat": 4,
 "nbformat_minor": 4
}
