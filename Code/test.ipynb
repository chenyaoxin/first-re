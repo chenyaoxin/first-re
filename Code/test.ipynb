{
 "cells": [
  {
   "cell_type": "code",
   "execution_count": 3,
   "metadata": {},
   "outputs": [
    {
     "data": {
      "text/plain": [
       "(array([  391.,  1197.,  3947., 12462., 58060., 41111.,  7601.,  2641.,\n",
       "          866.,   312.]),\n",
       " array([9.22342137e-05, 9.38640681e-05, 9.54939224e-05, 9.71237767e-05,\n",
       "        9.87536311e-05, 1.00383485e-04, 1.02013340e-04, 1.03643194e-04,\n",
       "        1.05273048e-04, 1.06902903e-04, 1.08532757e-04]),\n",
       " <BarContainer object of 10 artists>)"
      ]
     },
     "execution_count": 3,
     "metadata": {},
     "output_type": "execute_result"
    },
    {
     "data": {
      "image/png": "[encoded data removed]",
      "text/plain": [
       "<Figure size 432x288 with 1 Axes>"
      ]
     },
     "metadata": {
      "needs_background": "light"
     },
     "output_type": "display_data"
    }
   ],
   "source": [
    "import math\n",
    "import matplotlib.pyplot as plt\n",
    "import numpy as np\n",
    "\n",
    "Arr = dict(np.load('/huawei/osv1/chenyaoxin/workspace/Data/redshift-evolution_time10**(-4).npz'))\n",
    "t_values = Arr['evolution_time']\n",
    "flag = 0\n",
    "delta_t_true_values = np.array([])\n",
    "while flag <= (t_values.shape[0]-2):\n",
    "    delta_t_true_values = np.append(delta_t_true_values, abs(t_values[flag]-t_values[flag+1]))\n",
    "    flag += 1\n",
    "\n",
    "plt.hist(delta_t_true_values)"
   ]
  },
  {
   "cell_type": "code",
   "execution_count": null,
   "metadata": {},
   "outputs": [],
   "source": []
  }
 ],
 "metadata": {
  "kernelspec": {
   "display_name": "Python 3",
   "language": "python",
   "name": "python3"
  },
  "language_info": {
   "codemirror_mode": {
    "name": "ipython",
    "version": 3
   },
   "file_extension": ".py",
   "mimetype": "text/x-python",
   "name": "python",
   "nbconvert_exporter": "python",
   "pygments_lexer": "ipython3",
   "version": "3.8.5"
  }
 },
 "nbformat": 4,
 "nbformat_minor": 4
}
